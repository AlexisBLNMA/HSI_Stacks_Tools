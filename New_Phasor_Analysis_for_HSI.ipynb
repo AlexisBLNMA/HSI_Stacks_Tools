{
 "cells": [
  {
   "cell_type": "markdown",
   "id": "9b44f1c7-9741-4b7b-b57b-5a9069f085ef",
   "metadata": {},
   "source": [
    "# Phasor Analysis in Hyperspectral Imaging"
   ]
  },
  {
   "cell_type": "markdown",
   "id": "06f935a8-7628-4424-8fae-dad73a32ea95",
   "metadata": {},
   "source": [
    "## Introduction\n",
    "\n",
    "Hyperspectral imaging (HSI) is a powerful technique used in microscopy, food quality, satellites imaging, remote sensing, seed viability, environmental monitoring, among many other applications. In biological science and microscopy, HSI allows to obtain the fluorescence emission spectrum generally in the visible range. This leads directly to fluorescence microscopy, where a particular wavelength is used to reach a molecule's excitation spectrum. In microscopy, HSI uses the emission spectrum excited at a given wavelength to analyze and characterize molecules, organelles or cells. Further studies relate the uses of fluorophores bounded to molecules present at the cells and allow to observer different regions that normal microscopy techniques like widefield or brightfield cannot appreciate. The Phasor analysis is used in  HSI to obtain a phasor representation given by the complex Fourier Transform of each spectrum. Then the phasor plot analysis gives an easy and graphical way to analyze the components in the sample.\n",
    "\n",
    "#### In this notebook it is introduced the Phasor Analysis for Hyperspectral Imaging. It contains some explamples of this module and how to implement its funtions. It covers:\n",
    "\n",
    "> 1. The Phasor Transform and how to use the phasor function in hsipy with HSI data.\n",
    "\n",
    "> 2. It is shared some code for testing both interactives funtions that contains the Phasor exploration pipeline. \n",
    "\n",
    "> 3. Other useful funtions for HSI data processing, such as Tile Stitching, pseudocolour image formation and thresholding.\n"
   ]
  },
  {
   "cell_type": "markdown",
   "id": "40294d3f-5b67-4fe9-8cdb-dfbd9065ad8a",
   "metadata": {},
   "source": [
    " ### 1.1 The Phasor Transform\n",
    "\n",
    "Considering an hyperspectral image stack, the fluorescence spectra at each pixel can be transformed in phasor coordinates (G (λ)) and (S (λ)) as described in the following equations. I(λ) represent the intensity at every wavelength (channel), n is the number of the harmonic and λ i the initial wavelength. The, x and y coordinates are plotted in the spectral phasor plot.\n",
    "\n",
    "![pipeline1.png](pipeline1.png)\n",
    "\n",
    "The Figure above shows the pipeline of the phasor analysis for each emission spectrum that is stored in the HSI stack. Let take $d=m$x$n$x$k$ the dimession of the stack, where $m$x$n$ is the dimession of each image and $k$ is the number of images or channels in the stack. So each pixel in the possion $(i,j)$ corresponds to the spectrum $I(\\lambda_{(i,j)})$. Each channel has an associated value of $\\lambda_k$. \n",
    "\n",
    "Equations G and S are the following: \n",
    "\n",
    "$$ G(\\lambda) = \\frac{\\int_L I(\\lambda) cos\\left( 2\\pi n \\frac{\\lambda - \\lambda_i}{\\lambda_{max} - \\lambda_{min}} \\right)}{\\int_L I(\\lambda)d\\lambda}$$\n",
    "\n",
    "$$ S(\\lambda) = \\frac{\\int_L I(\\lambda) sen\\left( 2\\pi n \\frac{\\lambda - \\lambda_i}{\\lambda_{max} - \\lambda_{min}} \\right)}{\\int_L I(\\lambda)d\\lambda} j $$\n",
    "\n",
    "Obs. These Equations are compute using the Fast Fourier Transform Algorithm of Numpy. Since $G$ and $S$ are a partcular case of the Fourier Transform $(FT)$. \n",
    "\n",
    "Then after obtaining $G$ and $S$ which correspond to the real and imaginary part of the $FT$ we obtain the phasor plot. Fionally we can relate each pixel in the phasor with a given color, or color scale in order to create a pseudcolor image. \n",
    "\n",
    "The figure below shows this pipeline, from HSI stack to create a pseudocolor image. $G$ and $S$ are now Matrix (Images) that contain in each pixel $(i, j)$ the coordinate in the phasor. \n",
    "\n",
    "![pipeline2.png](pipeline2.png)"
   ]
  },
  {
   "cell_type": "markdown",
   "id": "f9c689e8-5293-4d35-95b9-d1ff81b58c9c",
   "metadata": {},
   "source": [
    "### 1.2 Compute the Phasor Tranform with $hsitools$ module\n",
    "\n",
    "After you install $hsipy$ module, import as follow: "
   ]
  },
  {
   "cell_type": "code",
   "execution_count": null,
   "id": "7935b712-73e1-4d24-b843-5240dc1d5273",
   "metadata": {},
   "outputs": [],
   "source": [
    "# Import the module hsitools that contains the functions to compute phasor analysis\n",
    "from hsipy import hsitools\n",
    "import tifffile  # tifffile reads the LSM data\n",
    "\n",
    "# The phasor function takes the image stack which you can read it with tifffile module. \n",
    "# And returns the average intensity image (dc), G and S images, and the modulation and phase images.\n",
    "\n",
    "# Read the LSM file (Chage the file path and file name with yours)\n",
    "imstack = tifffile.imread('Name_File.tif')\n",
    "dc, g, s, md, ph = hsitools.phasor(imstack)\n",
    "\n",
    "# Now we have stored all of them in each matrix; dc, g, s, md and ph"
   ]
  },
  {
   "cell_type": "code",
   "execution_count": null,
   "id": "ac09c390-8593-4245-b610-5d53403df51d",
   "metadata": {},
   "outputs": [],
   "source": [
    "# We can plot them using matplotlib\n",
    "import matplotlib.pyplot as plt\n",
    "\n",
    "plt.figure(1)\n",
    "plt.imshow(dc, cmap='gray')\n",
    "plt.title('DC image')\n",
    "plt.axis('off')"
   ]
  },
  {
   "cell_type": "markdown",
   "id": "407885bb-127e-4498-a3ed-9a6232dd4427",
   "metadata": {},
   "source": [
    "### 1.3 The Phasor Plot\n",
    "\n",
    "The following cells shows the pipeline for two interactive functions that can be used for phasor analysis. "
   ]
  },
  {
   "cell_type": "markdown",
   "id": "328ed352-b5cd-4a02-96a5-0e7f2c6a8f26",
   "metadata": {},
   "source": [
    " ##### Disclaimer\n",
    " > The code below help to show how to use both funtions to interactively plot phasors \n",
    "and obtain pseudocolor images. However jupiter notebooks is not the most recommended \n",
    "enviroment to do this kind of analysis. "
   ]
  },
  {
   "cell_type": "code",
   "execution_count": null,
   "id": "ebfcecda-497f-4da0-a262-776de50fc0cf",
   "metadata": {},
   "outputs": [],
   "source": [
    "import matplotlib\n",
    "matplotlib.use('TkAgg')\n",
    "from hsipy import hsitools\n",
    "import tifffile\n",
    "import numpy as np\n",
    "\n",
    "imstack = tifffile.imread('Same_Name_File.tif')\n",
    "dc, g, s, md, ph = hsitools.phasor(imstack)\n",
    "hsi_stack = np.asarray(imstack)  # Turn the imstack into a numpy array type to compute the average spectrums\n",
    "\n",
    "from hsipy.hsi_visualization import interactive1, interactive2\n",
    "\n",
    "# The function takes dc, g and s that are compute before. \n",
    "# Ro is the radious of the circle that we select for each component.\n",
    "# nbit is the number of bits of your images. \n",
    "# ncomp is the amount of components. Default and max is 5.\n",
    "# nfilt is the amount of time we apply a median filter to reduce the phasor scatter. \n",
    "# Setting Spectrums to True will plot the average emission spectrums of each segmented region.\n",
    "# hsi_stack contains the spectrums. \n",
    "# lamd is an array with the lambda values.\n",
    "\n",
    "# Ones you run this cell is will display a windows showing the dc image and its histogram. \n",
    "# Select the cutoff intensity in the histogram, this value threshold G and S images. \n",
    "# After it displays the phasor plot where you may pick the phasor components. \n",
    "# Finally it shows the pseudocolor image and the average spectrums.\n",
    "\n",
    "interactive1(dc, g, s, Ro=0.12, nbit=8, ncomp=4, filt=True, nfilt=3, spectrums=True,\n",
    "             hsi_stack=hsi_stack, lamd=np.arange(418, 718, 10),factor=0.8, CW=2.0) \n",
    "#Change the factor scale to adjust the ROI in the PHASOR CIRCLE and Change the CW to adjust the width of the circle "
   ]
  }
 ],
 "metadata": {
  "kernelspec": {
   "display_name": "Python 3 (ipykernel)",
   "language": "python",
   "name": "python3"
  },
  "language_info": {
   "codemirror_mode": {
    "name": "ipython",
    "version": 3
   },
   "file_extension": ".py",
   "mimetype": "text/x-python",
   "name": "python",
   "nbconvert_exporter": "python",
   "pygments_lexer": "ipython3",
   "version": "3.12.0"
  }
 },
 "nbformat": 4,
 "nbformat_minor": 5
}
